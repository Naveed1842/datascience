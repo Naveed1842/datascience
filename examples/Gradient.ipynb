{
 "cells": [
  {
   "cell_type": "markdown",
   "metadata": {},
   "source": [
    "# Code for Gradient disent "
   ]
  },
  {
   "cell_type": "markdown",
   "metadata": {},
   "source": [
    "Code for calculating local minima for $$f(x,y)= x^4 + y^4 - x^2 - y^2$$ with partial derivative wrt x : $$4x^3 - 2x$$ and partial derivative wrt y: $$4y^3 - 2y$$ "
   ]
  },
  {
   "cell_type": "code",
   "execution_count": null,
   "metadata": {
    "collapsed": true
   },
   "outputs": [],
   "source": [
    "max_iter = 1000\n",
    "x_o=0\n",
    "y_o=0\n",
    "alpha = 0.01 ## Step Size\n",
    "x_k=2 ## Starting position of x coordinate \n",
    "y_k=2 ## Starting position of y coordinate \n",
    "\n",
    "\n"
   ]
  },
  {
   "cell_type": "markdown",
   "metadata": {},
   "source": [
    "Here we set the Max iterations as 1000 and starting coordinte in ($x_k,y_k$) = (2,2) and Step size as 0.01 donated by alpha "
   ]
  },
  {
   "cell_type": "code",
   "execution_count": null,
   "metadata": {
    "collapsed": true
   },
   "outputs": [],
   "source": [
    "def devx(x): ## Defining partial derivative wrt x\n",
    "    return 4*x**3 - 2*x\n",
    "def devy(y): ## Defining partial derivation wrt y\n",
    "    return 4*y**3 -2*y\n",
    "for i in range(max_iter):\n",
    "    x_o = x_k\n",
    "    y_o = y_k\n",
    "    x_k = x_o - alpha * devx(x_o)\n",
    "    y_k = y_o - alpha * devy(y_o)\n",
    "\n",
    "print \"Local Minimum at\",x_k,\",\",y_k"
   ]
  },
  {
   "cell_type": "markdown",
   "metadata": {},
   "source": [
    "Here We define 2 functions devx(x) and devy(y) as the partial derivative with respect to x:$$4x^3 - 2x$$ and partial derivative with respect to y: $$4y^3 - 2y$$ respectively . In the following loop we calculate the local minima using equations : ![Alt Text](http://www.codeproject.com/KB/recipes/879043/GradientDescent.jpg \"Gradient Descent\"). "
   ]
  }
 ],
 "metadata": {
  "kernelspec": {
   "display_name": "Python 2",
   "language": "python",
   "name": "python2"
  },
  "language_info": {
   "codemirror_mode": {
    "name": "ipython",
    "version": 2
   },
   "file_extension": ".py",
   "mimetype": "text/x-python",
   "name": "python",
   "nbconvert_exporter": "python",
   "pygments_lexer": "ipython2",
   "version": "2.7.10"
  }
 },
 "nbformat": 4,
 "nbformat_minor": 0
}
