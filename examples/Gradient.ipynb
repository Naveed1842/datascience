{
 "cells": [
  {
   "cell_type": "markdown",
   "metadata": {},
   "source": [
    "# Code for Gradient disent "
   ]
  },
  {
   "cell_type": "markdown",
   "metadata": {},
   "source": [
    "Code for calculating local minima for f(x,y)= x^4 + y^4 - x^2 - y^2 with partial derivative wrt x : 4x^3 - 2x and partial derivative wrt y: 4y^3 - 2y"
   ]
  },
  {
   "cell_type": "code",
   "execution_count": 1,
   "metadata": {
    "collapsed": false
   },
   "outputs": [
    {
     "name": "stdout",
     "output_type": "stream",
     "text": [
      "Local Minimum at 0.707106781187 , 0.707106781187\n"
     ]
    }
   ],
   "source": [
    "max_iter = 1000\n",
    "x_o=0\n",
    "y_o=0\n",
    "alpha = 0.01 ## Step Size\n",
    "x_k=2 ## Starting position of x coordinate \n",
    "y_k=2 ## Starting position of y coordinate \n",
    "def devx(x): ## Defining partial derivative wrt x\n",
    "    return 4*x**3 - 2*x\n",
    "def devy(y): ## Defining partial derivation wrt y\n",
    "    return 4*y**3 -2*y\n",
    "for i in range(max_iter):\n",
    "    x_o = x_k\n",
    "    y_o = y_k\n",
    "    x_k = x_o - alpha * devx(x_o)\n",
    "    y_k = y_o - alpha * devy(y_o)\n",
    "\n",
    "print \"Local Minimum at\",x_k,\",\",y_k"
   ]
  }
 ],
 "metadata": {
  "kernelspec": {
   "display_name": "Python 2",
   "language": "python",
   "name": "python2"
  },
  "language_info": {
   "codemirror_mode": {
    "name": "ipython",
    "version": 2
   },
   "file_extension": ".py",
   "mimetype": "text/x-python",
   "name": "python",
   "nbconvert_exporter": "python",
   "pygments_lexer": "ipython2",
   "version": "2.7.10"
  }
 },
 "nbformat": 4,
 "nbformat_minor": 0
}
